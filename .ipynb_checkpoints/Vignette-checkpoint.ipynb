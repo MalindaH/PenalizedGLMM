{
 "cells": [
  {
   "cell_type": "code",
   "execution_count": null,
   "id": "649f0c0d",
   "metadata": {},
   "outputs": [],
   "source": [
    "using PenalizedGLMM"
   ]
  },
  {
   "cell_type": "code",
   "execution_count": 32,
   "id": "8d4940d7",
   "metadata": {},
   "outputs": [],
   "source": [
    "using CSV, StatsBase"
   ]
  },
  {
   "cell_type": "code",
   "execution_count": 47,
   "id": "5ccbc9ee",
   "metadata": {},
   "outputs": [],
   "source": [
    "# Define directory where data is located\n",
    "const datadir = \"data/\"\n",
    "const covfile = datadir * \"covariate.txt\"\n",
    "const plinkfile = datadir * \"geno\"\n",
    "const grmfile = datadir * \"grm.txt.gz\"\n",
    ";"
   ]
  },
  {
   "cell_type": "code",
   "execution_count": 71,
   "id": "b15d3d42",
   "metadata": {},
   "outputs": [],
   "source": [
    "# Read covariate file and split into train and test sets\n",
    "covdf = CSV.read(covfile, DataFrame)\n",
    "trainrowinds = sample(1:nrow(covdf), Int(floor(nrow(covdf) * 0.8)); replace = false)\n",
    "testrowinds = setdiff(1:nrow(covdf), trainrowinds)\n",
    ";"
   ]
  },
  {
   "cell_type": "code",
   "execution_count": 55,
   "id": "69eaee75",
   "metadata": {},
   "outputs": [
    {
     "data": {
      "text/plain": [
       "(φ = 1.0, τ = [0.5785829161713041], α = [-0.6914574895991064, -0.05699758175634297], η = [-1.1238507215440368, -1.1540271336033499, -1.3805020338750404, -1.1640028386300991, -1.5309284838239745, -0.32585110275742446, -1.084412547369445, -1.1645193056005803, 0.16025168814587776, -1.4945599804452891  …  -1.142444822496975, 0.4471429528836868, -1.1906327803089385, 0.4829717752925058, -1.0929216289268027, -0.3480207641760802, -0.8685702830303061, -1.1388686441997067, -0.7970635238533132, -0.3291115648156864], converged = true, τV = [0.824930229383528 -0.0713704617454726 … -0.05700464383352525 0.20770976930425203; -0.0713704617454726 0.5585168862776144 … 0.009898941808310227 -0.0660808421309462; … ; -0.05700464383352525 0.009898941808310227 … 0.5748638399977538 -0.05562354278598693; 0.20770976930425203 -0.0660808421309462 … -0.05562354278598693 0.7866657564833134], y = [0, 0, 0, 0, 0, 1, 0, 0, 1, 0  …  0, 1, 0, 1, 0, 1, 0, 0, 0, 1], X = [1.0 0.0; 1.0 0.0; … ; 1.0 0.0; 1.0 0.0], family = Binomial{Float64}(n=1, p=0.5))"
      ]
     },
     "execution_count": 55,
     "metadata": {},
     "output_type": "execute_result"
    }
   ],
   "source": [
    "# Fit null model with one random effect on the training set\n",
    "nullmodel = pglmm_null(@formula(y ~ SEX), covfile, grmfile, covrowinds = trainrowinds, grminds = trainrowinds)"
   ]
  },
  {
   "cell_type": "code",
   "execution_count": 67,
   "id": "1445ec40",
   "metadata": {},
   "outputs": [
    {
     "data": {
      "text/plain": [
       "(1.0, [0.5785829161713041])"
      ]
     },
     "execution_count": 67,
     "metadata": {},
     "output_type": "execute_result"
    }
   ],
   "source": [
    "# The estimated variance components of the models are equal to\n",
    "nullmodel.φ, nullmodel.τ"
   ]
  },
  {
   "cell_type": "code",
   "execution_count": 68,
   "id": "f29edbd6",
   "metadata": {},
   "outputs": [
    {
     "data": {
      "text/plain": [
       "2-element Vector{Float64}:\n",
       " -0.6914574895991064\n",
       " -0.05699758175634297"
      ]
     },
     "execution_count": 68,
     "metadata": {},
     "output_type": "execute_result"
    }
   ],
   "source": [
    "# The estimated intercept and fixed effect for SEX are equal to\n",
    "nullmodel.α"
   ]
  },
  {
   "cell_type": "code",
   "execution_count": 70,
   "id": "0112e0d6",
   "metadata": {},
   "outputs": [
    {
     "data": {
      "text/plain": [
       "true"
      ]
     },
     "execution_count": 70,
     "metadata": {},
     "output_type": "execute_result"
    }
   ],
   "source": [
    "# We can check if the algorithm has converged\n",
    "nullmodel.converged"
   ]
  },
  {
   "cell_type": "code",
   "execution_count": null,
   "id": "48861fe2",
   "metadata": {},
   "outputs": [],
   "source": [
    "# Fit a penalized logistic mixed model\n",
    "modelfit = pglmm(nullmodel, plinkfile, geneticrowinds = trainrowinds)"
   ]
  },
  {
   "cell_type": "code",
   "execution_count": null,
   "id": "16bfe44f",
   "metadata": {},
   "outputs": [],
   "source": [
    "# Find λ that gives minimum AIC or BIC\n",
    "pglmmAIC = PenalizedGLMM.GIC(modelfit, :AIC)\n",
    "pglmmBIC = PenalizedGLMM.GIC(modelfit, :BIC)"
   ]
  },
  {
   "cell_type": "code",
   "execution_count": null,
   "id": "9571c5d1",
   "metadata": {},
   "outputs": [],
   "source": []
  }
 ],
 "metadata": {
  "kernelspec": {
   "display_name": "Julia 1.7.2",
   "language": "julia",
   "name": "julia-1.7"
  },
  "language_info": {
   "file_extension": ".jl",
   "mimetype": "application/julia",
   "name": "julia",
   "version": "1.7.2"
  }
 },
 "nbformat": 4,
 "nbformat_minor": 5
}
