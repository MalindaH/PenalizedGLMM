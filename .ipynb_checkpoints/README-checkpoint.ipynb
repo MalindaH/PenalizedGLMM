{
 "cells": [
  {
   "cell_type": "markdown",
   "id": "3b93e1be",
   "metadata": {},
   "source": [
    "# PenalizedGLMM"
   ]
  },
  {
   "cell_type": "markdown",
   "id": "18f740ed",
   "metadata": {},
   "source": [
    "PenalizedGLMM is a Julia package that fits Lasso regularization paths for high-dimensional genetic data using block coordinate descent for linear or logistic mixed models."
   ]
  },
  {
   "cell_type": "markdown",
   "id": "cba3500b",
   "metadata": {},
   "source": [
    "## Installation"
   ]
  },
  {
   "cell_type": "markdown",
   "id": "58161753",
   "metadata": {},
   "source": [
    "This package requires Julia v1.6.2 or later. The package is not yet registered and can be installed via"
   ]
  },
  {
   "cell_type": "code",
   "execution_count": null,
   "id": "56ddace5",
   "metadata": {},
   "outputs": [],
   "source": [
    "Pkg.add(url = \"https://github.com/julstpierre/PenalizedGLMM.jl\")"
   ]
  },
  {
   "cell_type": "markdown",
   "id": "0e6cb30e",
   "metadata": {},
   "source": [
    "For this tutorial, we will be needing the following packages:"
   ]
  },
  {
   "cell_type": "code",
   "execution_count": 15,
   "id": "649f0c0d",
   "metadata": {},
   "outputs": [],
   "source": [
    "using PenalizedGLMM, CSV, DataFrames, StatsBase, GLM"
   ]
  },
  {
   "cell_type": "markdown",
   "id": "b3b813aa",
   "metadata": {},
   "source": [
    "## Example data sets"
   ]
  },
  {
   "cell_type": "markdown",
   "id": "2d0b597e",
   "metadata": {},
   "source": [
    "The data folder of the package contains genetic data for 2504 individuals from the 1000Genomes Project in PLINK format. The covariate.txt file contains SEX and binary phenotype info for all individuals. Finally, we also include a GRM in the form of a compressed .txt file that was calculated using the function `grm` from [SnpArrays.jl](https://openmendel.github.io/SnpArrays.jl/latest/). "
   ]
  },
  {
   "cell_type": "code",
   "execution_count": 7,
   "id": "5ccbc9ee",
   "metadata": {},
   "outputs": [],
   "source": [
    "const datadir = \"data/\"\n",
    "const covfile = datadir * \"covariate.txt\"\n",
    "const plinkfile = datadir * \"geno\"\n",
    "const grmfile = datadir * \"grm.txt.gz\";"
   ]
  },
  {
   "cell_type": "markdown",
   "id": "5ed5999e",
   "metadata": {},
   "source": [
    "## 1. Estimate the variance components under the null"
   ]
  },
  {
   "cell_type": "markdown",
   "id": "c281802b",
   "metadata": {},
   "source": [
    "We read the example covariate file and split the subjects into train and test sets."
   ]
  },
  {
   "cell_type": "code",
   "execution_count": 27,
   "id": "b15d3d42",
   "metadata": {},
   "outputs": [],
   "source": [
    "covdf = CSV.read(covfile, DataFrame)\n",
    "trainrowinds = sample(1:nrow(covdf), Int(floor(nrow(covdf) * 0.8)); replace = false)\n",
    "testrowinds = setdiff(1:nrow(covdf), trainrowinds);"
   ]
  },
  {
   "cell_type": "markdown",
   "id": "b73b5a6f",
   "metadata": {},
   "source": [
    "We fit the null logistic mixed model on the training set, with SEX as fixed effect and one random effect with variance-covariance structure parametrized by the GRM."
   ]
  },
  {
   "cell_type": "code",
   "execution_count": 28,
   "id": "69eaee75",
   "metadata": {},
   "outputs": [],
   "source": [
    "nullmodel = pglmm_null(@formula(y ~ SEX), covfile, grmfile, covrowinds = trainrowinds, grminds = trainrowinds);"
   ]
  },
  {
   "cell_type": "markdown",
   "id": "de4e7d80",
   "metadata": {},
   "source": [
    "The estimated variance components of the models are equal to"
   ]
  },
  {
   "cell_type": "code",
   "execution_count": 36,
   "id": "1445ec40",
   "metadata": {},
   "outputs": [
    {
     "data": {
      "text/plain": [
       "(1.0, [0.6347418361047935])"
      ]
     },
     "execution_count": 36,
     "metadata": {},
     "output_type": "execute_result"
    }
   ],
   "source": [
    "nullmodel.φ, nullmodel.τ"
   ]
  },
  {
   "cell_type": "markdown",
   "id": "0e812f59",
   "metadata": {},
   "source": [
    "The estimated intercept and fixed effect for SEX are equal to"
   ]
  },
  {
   "cell_type": "code",
   "execution_count": 20,
   "id": "f29edbd6",
   "metadata": {},
   "outputs": [
    {
     "data": {
      "text/plain": [
       "2-element Vector{Float64}:\n",
       " -0.6211902843653399\n",
       " -0.13209449127176048"
      ]
     },
     "execution_count": 20,
     "metadata": {},
     "output_type": "execute_result"
    }
   ],
   "source": [
    "nullmodel.α"
   ]
  },
  {
   "cell_type": "markdown",
   "id": "ef156811",
   "metadata": {},
   "source": [
    "We can check that the AIREML algorithm has effectively converged"
   ]
  },
  {
   "cell_type": "code",
   "execution_count": 35,
   "id": "0112e0d6",
   "metadata": {},
   "outputs": [
    {
     "data": {
      "text/plain": [
       "true"
      ]
     },
     "execution_count": 35,
     "metadata": {},
     "output_type": "execute_result"
    }
   ],
   "source": [
    "nullmodel.converged"
   ]
  },
  {
   "cell_type": "markdown",
   "id": "59859b97",
   "metadata": {},
   "source": [
    "## 2. Fit a penalized logistic mixed model"
   ]
  },
  {
   "cell_type": "markdown",
   "id": "073b1b80",
   "metadata": {},
   "source": [
    "After obtaining the variance components estimates under the null, we fit a penalized logistic mixed model using a lasso regularization term on the SNP effects in order to perform variable selection."
   ]
  },
  {
   "cell_type": "code",
   "execution_count": null,
   "id": "48861fe2",
   "metadata": {},
   "outputs": [],
   "source": [
    "modelfit = pglmm(nullmodel, plinkfile, geneticrowinds = trainrowinds);"
   ]
  },
  {
   "cell_type": "markdown",
   "id": "4e07d6a2",
   "metadata": {},
   "source": [
    "The coefficients for each value of λ are stored in `modelfit.betas`"
   ]
  },
  {
   "cell_type": "code",
   "execution_count": 49,
   "id": "ae2c0be7",
   "metadata": {},
   "outputs": [
    {
     "data": {
      "text/plain": [
       "5001×100 view(::Matrix{Float64}, 2:5002, 1:100) with eltype Float64:\n",
       " -0.125515  -0.126354  -0.127168  …  -0.664979   -0.672408   -0.679633\n",
       "  0.0        0.0        0.0           0.0         0.0         0.0\n",
       "  0.0        0.0        0.0           0.0         0.0         0.0\n",
       "  0.0        0.0        0.0           0.0         0.0         0.0\n",
       "  0.0        0.0        0.0          -0.0252843  -0.0238376  -0.0227283\n",
       "  0.0        0.0        0.0       …   0.0         0.0         0.0\n",
       "  0.0        0.0        0.0           0.0         0.0         0.0\n",
       "  0.0        0.0        0.0           0.205792    0.202325    0.198666\n",
       "  0.0        0.0        0.0          -0.0188797  -0.0194645  -0.0195953\n",
       "  0.0        0.0        0.0           0.0397702   0.04399     0.0476746\n",
       "  0.0        0.0        0.0       …   0.0         0.0         0.0\n",
       "  0.0        0.0        0.0          -0.107175   -0.108742   -0.109795\n",
       "  0.0        0.0        0.0           0.0         0.0         0.0\n",
       "  ⋮                               ⋱                          \n",
       "  0.0        0.0        0.0           0.0         0.0         0.0\n",
       "  0.0        0.0        0.0       …   0.329599    0.334526    0.339608\n",
       "  0.0        0.0        0.0           0.0         0.0         0.0\n",
       "  0.0        0.0        0.0           0.0774474   0.0784331   0.0793867\n",
       "  0.0        0.0        0.0           0.0         0.0         0.0\n",
       "  0.0        0.0        0.0           0.0         0.0         0.0\n",
       "  0.0        0.0        0.0       …   0.0         0.0         0.0\n",
       "  0.0        0.0        0.0           0.0         0.0         0.0\n",
       "  0.0        0.0        0.0           0.0         0.0         0.0\n",
       "  0.0        0.0        0.0           0.0         0.0         0.0\n",
       "  0.0        0.0        0.0           0.0         0.0         0.0\n",
       "  0.0        0.0        0.0       …   0.0         0.0         0.0"
      ]
     },
     "execution_count": 49,
     "metadata": {},
     "output_type": "execute_result"
    }
   ],
   "source": [
    "modelfit.betas"
   ]
  },
  {
   "cell_type": "markdown",
   "id": "0b90334c",
   "metadata": {},
   "source": [
    " We can calculate the number of non-zero coefficients for each value of λ"
   ]
  },
  {
   "cell_type": "code",
   "execution_count": 59,
   "id": "6af6151b",
   "metadata": {},
   "outputs": [
    {
     "data": {
      "text/plain": [
       "1×100 adjoint(::Vector{Int64}) with eltype Int64:\n",
       " 2  2  2  2  2  3  3  3  3  4  6  7  9  …  1049  1058  1063  1065  1073  1079"
      ]
     },
     "execution_count": 59,
     "metadata": {},
     "output_type": "execute_result"
    }
   ],
   "source": [
    "[length(findall(x -> x != 0, view(modelfit.betas, :,k))) for k in 1:size(modelfit.betas, 2)]'"
   ]
  },
  {
   "cell_type": "markdown",
   "id": "d1b3f8b9",
   "metadata": {},
   "source": [
    "To find the optimal λ, we can use AIC or BIC"
   ]
  },
  {
   "cell_type": "code",
   "execution_count": 44,
   "id": "16bfe44f",
   "metadata": {},
   "outputs": [],
   "source": [
    "pglmmAIC = PenalizedGLMM.GIC(modelfit, :AIC);\n",
    "pglmmBIC = PenalizedGLMM.GIC(modelfit, :BIC);"
   ]
  },
  {
   "cell_type": "markdown",
   "id": "ce4daf75",
   "metadata": {},
   "source": [
    "The number of coefficients selected using AIC and BIC are respectively equal to"
   ]
  },
  {
   "cell_type": "code",
   "execution_count": 61,
   "id": "86083ac8",
   "metadata": {},
   "outputs": [
    {
     "data": {
      "text/plain": [
       "2-element Vector{Int64}:\n",
       " 88\n",
       " 23"
      ]
     },
     "execution_count": 61,
     "metadata": {},
     "output_type": "execute_result"
    }
   ],
   "source": [
    "[length(findall(x -> x != 0, view(modelfit.betas, :,k))) for k in (pglmmAIC, pglmmBIC)]"
   ]
  },
  {
   "cell_type": "markdown",
   "id": "061f3b57",
   "metadata": {},
   "source": [
    "## 3. Calculate Polygenic Risk Score (PRS) on test individuals"
   ]
  },
  {
   "cell_type": "code",
   "execution_count": null,
   "id": "a23bea40",
   "metadata": {},
   "outputs": [],
   "source": []
  }
 ],
 "metadata": {
  "kernelspec": {
   "display_name": "Julia 1.7.2",
   "language": "julia",
   "name": "julia-1.7"
  },
  "language_info": {
   "file_extension": ".jl",
   "mimetype": "application/julia",
   "name": "julia",
   "version": "1.7.2"
  }
 },
 "nbformat": 4,
 "nbformat_minor": 5
}
