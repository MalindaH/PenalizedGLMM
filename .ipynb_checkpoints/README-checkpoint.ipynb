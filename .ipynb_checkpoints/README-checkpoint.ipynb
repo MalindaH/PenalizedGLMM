{
 "cells": [
  {
   "cell_type": "markdown",
   "id": "3b93e1be",
   "metadata": {},
   "source": [
    "# PenalizedGLMM"
   ]
  },
  {
   "cell_type": "markdown",
   "id": "18f740ed",
   "metadata": {},
   "source": [
    "PenalizedGLMM is a Julia package that fits Lasso regularization paths for high-dimensional genetic data using block coordinate descent for linear or logistic mixed models."
   ]
  },
  {
   "cell_type": "markdown",
   "id": "d76b4c9a",
   "metadata": {},
   "source": [
    "## Installation"
   ]
  },
  {
   "cell_type": "markdown",
   "id": "745af9b9",
   "metadata": {},
   "source": [
    "This package requires Julia v1.6.2 or later. The package is not yet registered and can be installed via"
   ]
  },
  {
   "cell_type": "code",
   "execution_count": null,
   "id": "3f40a187",
   "metadata": {},
   "outputs": [],
   "source": [
    "Pkg.add(url = \"https://github.com/julstpierre/PenalizedGLMM.jl\")\n",
    "using PenalizedGLMM"
   ]
  },
  {
   "cell_type": "markdown",
   "id": "65a7cd71",
   "metadata": {},
   "source": [
    "For this tutorial, we will be needing the following packages:"
   ]
  },
  {
   "cell_type": "code",
   "execution_count": 92,
   "id": "649f0c0d",
   "metadata": {},
   "outputs": [],
   "source": [
    "using CSV, DataFrames, StatsBase, GLM, SnpArrays, ROCAnalysis"
   ]
  },
  {
   "cell_type": "markdown",
   "id": "b3b813aa",
   "metadata": {},
   "source": [
    "## Example data sets"
   ]
  },
  {
   "cell_type": "markdown",
   "id": "dcca7549",
   "metadata": {},
   "source": [
    "The data folder of the package contains genetic data for 2504 individuals and 5000 SNPs from the 1000Genomes Project in PLINK format. The covariate.txt file contains SEX covariate and simulated binary phenotype for all individuals. Finally, we also include a GRM in the form of a compressed .txt file that was calculated using the function `grm` from [SnpArrays.jl](https://openmendel.github.io/SnpArrays.jl/latest/). "
   ]
  },
  {
   "cell_type": "code",
   "execution_count": 7,
   "id": "5ccbc9ee",
   "metadata": {},
   "outputs": [],
   "source": [
    "const datadir = \"data/\"\n",
    "const covfile = datadir * \"covariate.txt\"\n",
    "const plinkfile = datadir * \"geno\"\n",
    "const grmfile = datadir * \"grm.txt.gz\";"
   ]
  },
  {
   "cell_type": "markdown",
   "id": "2d87cfca",
   "metadata": {},
   "source": [
    "## 1. Estimate the variance components under the null"
   ]
  },
  {
   "cell_type": "markdown",
   "id": "76147e7b",
   "metadata": {},
   "source": [
    "We read the example covariate file and split the subjects into train and test sets:"
   ]
  },
  {
   "cell_type": "code",
   "execution_count": 27,
   "id": "b15d3d42",
   "metadata": {},
   "outputs": [],
   "source": [
    "covdf = CSV.read(covfile, DataFrame)\n",
    "trainrowinds = sample(1:nrow(covdf), Int(floor(nrow(covdf) * 0.8)); replace = false)\n",
    "testrowinds = setdiff(1:nrow(covdf), trainrowinds);"
   ]
  },
  {
   "cell_type": "markdown",
   "id": "64175800",
   "metadata": {},
   "source": [
    "We fit the null logistic mixed model on the training set, with SEX as fixed effect and one random effect with variance-covariance structure parametrized by the GRM:"
   ]
  },
  {
   "cell_type": "code",
   "execution_count": 28,
   "id": "69eaee75",
   "metadata": {},
   "outputs": [],
   "source": [
    "nullmodel = pglmm_null(@formula(y ~ SEX) \n",
    "                      ,covfile\n",
    "                      ,grmfile \n",
    "                      ,covrowinds = trainrowinds \n",
    "                      ,grminds = trainrowinds);"
   ]
  },
  {
   "cell_type": "markdown",
   "id": "4feabf75",
   "metadata": {},
   "source": [
    "By default, the dispersion parameter φ for the binomial distribution is equal to 1. The estimated variance components are equal to"
   ]
  },
  {
   "cell_type": "code",
   "execution_count": 36,
   "id": "1445ec40",
   "metadata": {},
   "outputs": [
    {
     "data": {
      "text/plain": [
       "(1.0, [0.6347418361047935])"
      ]
     },
     "execution_count": 36,
     "metadata": {},
     "output_type": "execute_result"
    }
   ],
   "source": [
    "nullmodel.φ, nullmodel.τ"
   ]
  },
  {
   "cell_type": "markdown",
   "id": "eac7ec7d",
   "metadata": {},
   "source": [
    "The estimated intercept and fixed effect for SEX are equal to"
   ]
  },
  {
   "cell_type": "code",
   "execution_count": 20,
   "id": "f29edbd6",
   "metadata": {},
   "outputs": [
    {
     "data": {
      "text/plain": [
       "2-element Vector{Float64}:\n",
       " -0.6211902843653399\n",
       " -0.13209449127176048"
      ]
     },
     "execution_count": 20,
     "metadata": {},
     "output_type": "execute_result"
    }
   ],
   "source": [
    "nullmodel.α"
   ]
  },
  {
   "cell_type": "markdown",
   "id": "2f3b7e2a",
   "metadata": {},
   "source": [
    "We can check that the AIREML algorithm has effectively converged:"
   ]
  },
  {
   "cell_type": "code",
   "execution_count": 35,
   "id": "0112e0d6",
   "metadata": {},
   "outputs": [
    {
     "data": {
      "text/plain": [
       "true"
      ]
     },
     "execution_count": 35,
     "metadata": {},
     "output_type": "execute_result"
    }
   ],
   "source": [
    "nullmodel.converged"
   ]
  },
  {
   "cell_type": "markdown",
   "id": "1964bf27",
   "metadata": {},
   "source": [
    "## 2. Fit a penalized logistic mixed model"
   ]
  },
  {
   "cell_type": "markdown",
   "id": "9d52bc70",
   "metadata": {},
   "source": [
    "After obtaining the variance components estimates under the null, we fit a penalized logistic mixed model using a lasso regularization term on the SNP effects in order to perform variable selection:"
   ]
  },
  {
   "cell_type": "code",
   "execution_count": null,
   "id": "48861fe2",
   "metadata": {},
   "outputs": [],
   "source": [
    "modelfit = pglmm(nullmodel, plinkfile, geneticrowinds = trainrowinds);"
   ]
  },
  {
   "cell_type": "markdown",
   "id": "cf2c3fc2",
   "metadata": {},
   "source": [
    "The coefficients for each value of λ are stored in `modelfit.betas`:"
   ]
  },
  {
   "cell_type": "code",
   "execution_count": 49,
   "id": "48ae5a8d",
   "metadata": {},
   "outputs": [
    {
     "data": {
      "text/plain": [
       "5001×100 view(::Matrix{Float64}, 2:5002, 1:100) with eltype Float64:\n",
       " -0.125515  -0.126354  -0.127168  …  -0.664979   -0.672408   -0.679633\n",
       "  0.0        0.0        0.0           0.0         0.0         0.0\n",
       "  0.0        0.0        0.0           0.0         0.0         0.0\n",
       "  0.0        0.0        0.0           0.0         0.0         0.0\n",
       "  0.0        0.0        0.0          -0.0252843  -0.0238376  -0.0227283\n",
       "  0.0        0.0        0.0       …   0.0         0.0         0.0\n",
       "  0.0        0.0        0.0           0.0         0.0         0.0\n",
       "  0.0        0.0        0.0           0.205792    0.202325    0.198666\n",
       "  0.0        0.0        0.0          -0.0188797  -0.0194645  -0.0195953\n",
       "  0.0        0.0        0.0           0.0397702   0.04399     0.0476746\n",
       "  0.0        0.0        0.0       …   0.0         0.0         0.0\n",
       "  0.0        0.0        0.0          -0.107175   -0.108742   -0.109795\n",
       "  0.0        0.0        0.0           0.0         0.0         0.0\n",
       "  ⋮                               ⋱                          \n",
       "  0.0        0.0        0.0           0.0         0.0         0.0\n",
       "  0.0        0.0        0.0       …   0.329599    0.334526    0.339608\n",
       "  0.0        0.0        0.0           0.0         0.0         0.0\n",
       "  0.0        0.0        0.0           0.0774474   0.0784331   0.0793867\n",
       "  0.0        0.0        0.0           0.0         0.0         0.0\n",
       "  0.0        0.0        0.0           0.0         0.0         0.0\n",
       "  0.0        0.0        0.0       …   0.0         0.0         0.0\n",
       "  0.0        0.0        0.0           0.0         0.0         0.0\n",
       "  0.0        0.0        0.0           0.0         0.0         0.0\n",
       "  0.0        0.0        0.0           0.0         0.0         0.0\n",
       "  0.0        0.0        0.0           0.0         0.0         0.0\n",
       "  0.0        0.0        0.0       …   0.0         0.0         0.0"
      ]
     },
     "execution_count": 49,
     "metadata": {},
     "output_type": "execute_result"
    }
   ],
   "source": [
    "modelfit.betas"
   ]
  },
  {
   "cell_type": "markdown",
   "id": "f32380ee",
   "metadata": {},
   "source": [
    " We can calculate the number of non-zero coefficients for each value of λ:"
   ]
  },
  {
   "cell_type": "code",
   "execution_count": 59,
   "id": "7f1f3063",
   "metadata": {},
   "outputs": [
    {
     "data": {
      "text/plain": [
       "1×100 adjoint(::Vector{Int64}) with eltype Int64:\n",
       " 2  2  2  2  2  3  3  3  3  4  6  7  9  …  1049  1058  1063  1065  1073  1079"
      ]
     },
     "execution_count": 59,
     "metadata": {},
     "output_type": "execute_result"
    }
   ],
   "source": [
    "[length(findall(x -> x != 0, view(modelfit.betas, :,k))) for k in 1:size(modelfit.betas, 2)]'"
   ]
  },
  {
   "cell_type": "markdown",
   "id": "6099797d",
   "metadata": {},
   "source": [
    "To find the optimal λ, we can use AIC or BIC as model selection criteria:"
   ]
  },
  {
   "cell_type": "code",
   "execution_count": 44,
   "id": "16bfe44f",
   "metadata": {},
   "outputs": [],
   "source": [
    "pglmmAIC = PenalizedGLMM.GIC(modelfit, :AIC);\n",
    "pglmmBIC = PenalizedGLMM.GIC(modelfit, :BIC);"
   ]
  },
  {
   "cell_type": "markdown",
   "id": "184ab55c",
   "metadata": {},
   "source": [
    "## 3. Calculate Polygenic Risk Score (PRS) on test set"
   ]
  },
  {
   "cell_type": "markdown",
   "id": "82cf6523",
   "metadata": {},
   "source": [
    "To make predictions on the test set, we convert PLINK genotype to matrix, using the package [SnpArrays.jl](https://openmendel.github.io/SnpArrays.jl/latest/). We convert to additive model (default) and impute missing values:"
   ]
  },
  {
   "cell_type": "code",
   "execution_count": 71,
   "id": "31bcf4ad",
   "metadata": {},
   "outputs": [],
   "source": [
    "geno = SnpArray(plinkfile * \".bed\")\n",
    "Gtest = convert(Matrix{Float64}, @view(geno[testrowinds,:]), model = ADDITIVE_MODEL, impute = true);"
   ]
  },
  {
   "cell_type": "markdown",
   "id": "c625b212",
   "metadata": {},
   "source": [
    "We combine genotype with the covariate(s) into an array:"
   ]
  },
  {
   "cell_type": "code",
   "execution_count": 72,
   "id": "c5574bb1",
   "metadata": {},
   "outputs": [],
   "source": [
    "Xtest = [covdf[testrowinds, \"SEX\"] Gtest];"
   ]
  },
  {
   "cell_type": "markdown",
   "id": "19a8c41e",
   "metadata": {},
   "source": [
    "Finally, we can make prediction using the `PenalizedGLMM.predict` function. By default, predictions for the full Lasso path are calculated. We can also obtain predictions for optimal λ only, for example by comparing predictions obtained using AIC and BIC:"
   ]
  },
  {
   "cell_type": "code",
   "execution_count": 121,
   "id": "f36e01b7",
   "metadata": {},
   "outputs": [
    {
     "data": {
      "text/html": [
       "<div class=\"data-frame\"><p>5 rows × 2 columns</p><table class=\"data-frame\"><thead><tr><th></th><th>AIC</th><th>BIC</th></tr><tr><th></th><th title=\"Float64\">Float64</th><th title=\"Float64\">Float64</th></tr></thead><tbody><tr><th>1</th><td>0.244937</td><td>0.232804</td></tr><tr><th>2</th><td>0.239528</td><td>0.243225</td></tr><tr><th>3</th><td>0.190408</td><td>0.18723</td></tr><tr><th>4</th><td>0.333759</td><td>0.296043</td></tr><tr><th>5</th><td>0.171658</td><td>0.160262</td></tr></tbody></table></div>"
      ],
      "text/latex": [
       "\\begin{tabular}{r|cc}\n",
       "\t& AIC & BIC\\\\\n",
       "\t\\hline\n",
       "\t& Float64 & Float64\\\\\n",
       "\t\\hline\n",
       "\t1 & 0.244937 & 0.232804 \\\\\n",
       "\t2 & 0.239528 & 0.243225 \\\\\n",
       "\t3 & 0.190408 & 0.18723 \\\\\n",
       "\t4 & 0.333759 & 0.296043 \\\\\n",
       "\t5 & 0.171658 & 0.160262 \\\\\n",
       "\\end{tabular}\n"
      ],
      "text/plain": [
       "\u001b[1m5×2 DataFrame\u001b[0m\n",
       "\u001b[1m Row \u001b[0m│\u001b[1m AIC      \u001b[0m\u001b[1m BIC      \u001b[0m\n",
       "\u001b[1m     \u001b[0m│\u001b[90m Float64  \u001b[0m\u001b[90m Float64  \u001b[0m\n",
       "─────┼────────────────────\n",
       "   1 │ 0.244937  0.232804\n",
       "   2 │ 0.239528  0.243225\n",
       "   3 │ 0.190408  0.18723\n",
       "   4 │ 0.333759  0.296043\n",
       "   5 │ 0.171658  0.160262"
      ]
     },
     "execution_count": 121,
     "metadata": {},
     "output_type": "execute_result"
    }
   ],
   "source": [
    "yhat = PenalizedGLMM.predict(modelfit\n",
    "                            ,Xtest\n",
    "                            ,grmfile\n",
    "                            ,grmrowinds = testrowinds\n",
    "                            ,grmcolinds = trainrowinds\n",
    "                            ,s = [pglmmAIC, pglmmBIC]\n",
    "                            ,outtype = :prob\n",
    "                            ) |>\n",
    "        x-> DataFrame(x, [:AIC, :BIC])\n",
    "\n",
    "first(yhat, 5)"
   ]
  },
  {
   "cell_type": "markdown",
   "id": "e4157e7e",
   "metadata": {},
   "source": [
    "We can determine which model provides best prediction accuracy by comparing AUCs for the PRSs obtained via AIC and BIC. We use the [ROCAnalysis.jl](https://juliapackages.com/p/rocanalysis) package to calculate AUC for each model:"
   ]
  },
  {
   "cell_type": "code",
   "execution_count": 123,
   "id": "794a8ba0",
   "metadata": {},
   "outputs": [
    {
     "data": {
      "text/html": [
       "<div class=\"data-frame\"><p>1 rows × 2 columns</p><table class=\"data-frame\"><thead><tr><th></th><th>AIC</th><th>BIC</th></tr><tr><th></th><th title=\"Float64\">Float64</th><th title=\"Float64\">Float64</th></tr></thead><tbody><tr><th>1</th><td>0.8045</td><td>0.799065</td></tr></tbody></table></div>"
      ],
      "text/latex": [
       "\\begin{tabular}{r|cc}\n",
       "\t& AIC & BIC\\\\\n",
       "\t\\hline\n",
       "\t& Float64 & Float64\\\\\n",
       "\t\\hline\n",
       "\t1 & 0.8045 & 0.799065 \\\\\n",
       "\\end{tabular}\n"
      ],
      "text/plain": [
       "\u001b[1m1×2 DataFrame\u001b[0m\n",
       "\u001b[1m Row \u001b[0m│\u001b[1m AIC     \u001b[0m\u001b[1m BIC      \u001b[0m\n",
       "\u001b[1m     \u001b[0m│\u001b[90m Float64 \u001b[0m\u001b[90m Float64  \u001b[0m\n",
       "─────┼───────────────────\n",
       "   1 │  0.8045  0.799065"
      ]
     },
     "execution_count": 123,
     "metadata": {},
     "output_type": "execute_result"
    }
   ],
   "source": [
    "ctrls = (covdf[testrowinds,:y] .== 0)\n",
    "cases = (covdf[testrowinds,:y] .== 1)\n",
    "\n",
    "[ROCAnalysis.auc(roc(yhat[ctrls, i], yhat[cases, i])) for i in (\"AIC\", \"BIC\")]' |> \n",
    "    x-> DataFrame(Matrix(x), [:AIC, :BIC])"
   ]
  },
  {
   "cell_type": "markdown",
   "id": "1be2a589",
   "metadata": {},
   "source": [
    "We see that both models result in comparable prediction accuracies, but the model using BIC has selected almost 4 times less predictors than the model based on AIC:"
   ]
  },
  {
   "cell_type": "code",
   "execution_count": 122,
   "id": "e423d10c",
   "metadata": {},
   "outputs": [
    {
     "data": {
      "text/html": [
       "<div class=\"data-frame\"><p>1 rows × 2 columns</p><table class=\"data-frame\"><thead><tr><th></th><th>AIC</th><th>BIC</th></tr><tr><th></th><th title=\"Int64\">Int64</th><th title=\"Int64\">Int64</th></tr></thead><tbody><tr><th>1</th><td>88</td><td>23</td></tr></tbody></table></div>"
      ],
      "text/latex": [
       "\\begin{tabular}{r|cc}\n",
       "\t& AIC & BIC\\\\\n",
       "\t\\hline\n",
       "\t& Int64 & Int64\\\\\n",
       "\t\\hline\n",
       "\t1 & 88 & 23 \\\\\n",
       "\\end{tabular}\n"
      ],
      "text/plain": [
       "\u001b[1m1×2 DataFrame\u001b[0m\n",
       "\u001b[1m Row \u001b[0m│\u001b[1m AIC   \u001b[0m\u001b[1m BIC   \u001b[0m\n",
       "\u001b[1m     \u001b[0m│\u001b[90m Int64 \u001b[0m\u001b[90m Int64 \u001b[0m\n",
       "─────┼──────────────\n",
       "   1 │    88     23"
      ]
     },
     "execution_count": 122,
     "metadata": {},
     "output_type": "execute_result"
    }
   ],
   "source": [
    "[length(findall(x -> x != 0, view(modelfit.betas, :,k))) for k in (pglmmAIC, pglmmBIC)]' |> \n",
    "    x-> DataFrame(Matrix(x), [:AIC, :BIC])"
   ]
  }
 ],
 "metadata": {
  "kernelspec": {
   "display_name": "Julia 1.7.2",
   "language": "julia",
   "name": "julia-1.7"
  },
  "language_info": {
   "file_extension": ".jl",
   "mimetype": "application/julia",
   "name": "julia",
   "version": "1.7.2"
  }
 },
 "nbformat": 4,
 "nbformat_minor": 5
}
